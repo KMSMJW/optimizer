{
 "cells": [
  {
   "cell_type": "code",
   "execution_count": 1,
   "metadata": {},
   "outputs": [],
   "source": [
    "import pandas as pd\n",
    "import pulp\n",
    "import numpy as np"
   ]
  },
  {
   "cell_type": "code",
   "execution_count": 2,
   "metadata": {},
   "outputs": [],
   "source": [
    "time = 8\n",
    "AC_max = 4250\n",
    "AC_half = 2500\n",
    "total_AC = 6\n",
    "total_LTC = 3\n",
    "total_STC = 2\n",
    "LTC_cap = 7300\n",
    "STC_cap = 2600"
   ]
  },
  {
   "cell_type": "code",
   "execution_count": 3,
   "metadata": {},
   "outputs": [],
   "source": [
    "energy_params = {'AC_cool' : [[25, -0.65, 0.72], [25,     -0.7,   0]],\n",
    "                 'AC_heat' : [[20, -0.65, 0.75], [250,    -0.95,  0]],\n",
    "                 'STC'     : [[50, -0.85, 0.28], [25.002, -0.784, 0]],\n",
    "                 'LTC'     : [[50, -0.85, 0.28], [25.002, -0.784, 0]]}"
   ]
  },
  {
   "cell_type": "code",
   "execution_count": 4,
   "metadata": {},
   "outputs": [],
   "source": [
    "def energy_cons_func(e_prod, param):\n",
    "    A, B, C = param[0], param[1], param[2]\n",
    "    return ((A * (e_prod ** B)) + C) * e_prod"
   ]
  },
  {
   "cell_type": "code",
   "execution_count": 5,
   "metadata": {},
   "outputs": [],
   "source": [
    "def cost(gas,elec):\n",
    "    AC_cost = list()\n",
    "    STC_cost = list()\n",
    "    LTC_cost = list()\n",
    "    for i in range(len(gas)):\n",
    "        gas_rate = gas[i]\n",
    "        elec_rate = elec[i]\n",
    "        AC_gas = energy_cons_func(AC_max, energy_params['AC_cool'][0])\n",
    "        AC_elec = energy_cons_func(AC_max,energy_params['AC_cool'][1])\n",
    "        STC_gas = energy_cons_func(STC_cap, energy_params['STC'][0])\n",
    "        STC_elec = energy_cons_func(STC_cap, energy_params['STC'][1])\n",
    "        LTC_gas = energy_cons_func(LTC_cap, energy_params['LTC'][0])\n",
    "        LTC_elec = energy_cons_func(LTC_cap, energy_params['LTC'][1])\n",
    "        AC_cost.append(AC_gas*gas_rate + AC_elec*elec_rate)\n",
    "        STC_cost.append(STC_gas*elec_rate + STC_elec*elec_rate)\n",
    "        LTC_cost.append(LTC_gas*elec_rate + LTC_elec*elec_rate)\n",
    "    \n",
    "    return np.array(AC_cost), np.array(STC_cost), np.array(LTC_cost)"
   ]
  },
  {
   "cell_type": "code",
   "execution_count": 6,
   "metadata": {},
   "outputs": [],
   "source": [
    "elec = np.array([0,49.64,49.64,49.64,49.64,49.64,49.64,49.64,49.64])\n",
    "gas = np.array([0,10.83,10.83,10.83,10.83,10.83,10.83,10.83,10.83])"
   ]
  },
  {
   "cell_type": "code",
   "execution_count": 7,
   "metadata": {},
   "outputs": [],
   "source": [
    "AC_cost, STC_cost, LTC_cost = cost(gas,elec)"
   ]
  },
  {
   "cell_type": "code",
   "execution_count": 8,
   "metadata": {},
   "outputs": [],
   "source": [
    "demand = np.array([0,17495.95242,\n",
    "10715.21031,\n",
    "11420.41855,\n",
    "11561.04044,\n",
    "11707.86874,\n",
    "11748.10859,\n",
    "12243.31604,\n",
    "12976.50566\n",
    "])"
   ]
  },
  {
   "cell_type": "code",
   "execution_count": 9,
   "metadata": {},
   "outputs": [],
   "source": [
    "AC_Run = pulp.LpVariable.dicts(\"AC_Run\", range(time+1), lowBound=0,cat='Integer')\n",
    "AC_On = pulp.LpVariable.dicts(\"AC_On\", range(time+1), lowBound=0, cat='Integer')\n",
    "AC_Off = pulp.LpVariable.dicts(\"AC_Off\", range(time+1), lowBound=0, cat='Integer')\n",
    "AC_Rest = pulp.LpVariable.dicts(\"AC_Rest\", range(time+1), lowBound=0, cat='Integer')\n",
    "AC_energy = pulp.LpVariable.dicts(\"AC_energy\", range(time+1), lowBound=0, cat='Integer')\n",
    "\n",
    "LTC_Run = pulp.LpVariable.dicts(\"LTC_Run\", range(time+1), lowBound=0,cat='Integer')\n",
    "LTC_On = pulp.LpVariable.dicts(\"LTC_On\", range(time+1), lowBound=0, cat='Integer')\n",
    "LTC_Off = pulp.LpVariable.dicts(\"LTC_Off\", range(time+1), lowBound=0, cat='Integer')\n",
    "LTC_Rest = pulp.LpVariable.dicts(\"LTC_Rest\", range(time+1), lowBound=0, cat='Integer')\n",
    "LTC_energy = pulp.LpVariable.dicts(\"LTC_energy\", range(time+1), lowBound=0, cat='Integer')\n",
    "\n",
    "STC_Run = pulp.LpVariable.dicts(\"STC_Run\", range(time+1), lowBound=0,cat='Integer')\n",
    "STC_On = pulp.LpVariable.dicts(\"STC_On\", range(time+1), lowBound=0, cat='Integer')\n",
    "STC_Off = pulp.LpVariable.dicts(\"STC_Off\", range(time+1), lowBound=0, cat='Integer')\n",
    "STC_Rest = pulp.LpVariable.dicts(\"STC_Rest\", range(time+1), lowBound=0, cat='Integer')\n",
    "STC_energy = pulp.LpVariable.dicts(\"STC_energy\", range(time+1), lowBound=0, cat='Integer')"
   ]
  },
  {
   "cell_type": "code",
   "execution_count": 10,
   "metadata": {},
   "outputs": [],
   "source": [
    "model = pulp.LpProblem(\"Cost_minimize_problem\", pulp.LpMinimize)"
   ]
  },
  {
   "cell_type": "code",
   "execution_count": 11,
   "metadata": {},
   "outputs": [],
   "source": [
    "model += pulp.lpSum(AC_Run[i+1]*AC_cost[i+1] + STC_Run[i+1]*STC_cost[i+1] + LTC_Run[i+1]*LTC_cost[i+1]\n",
    " + AC_On[i+1] + AC_Off[i+1] + STC_On[i+1] + STC_Off[i+1] + LTC_On[i+1] + LTC_Off[i+1] for i in range(time))"
   ]
  },
  {
   "cell_type": "code",
   "execution_count": 12,
   "metadata": {},
   "outputs": [],
   "source": [
    "for t in range(time):\n",
    "    model += AC_Run[t+1] == AC_Run[t] + AC_On[t+1] - AC_Off[t+1]\n",
    "    model += STC_Run[t+1] == STC_Run[t] + STC_On[t+1] - STC_Off[t+1]\n",
    "    model += LTC_Run[t+1] == LTC_Run[t] + LTC_On[t+1] - LTC_Off[t+1]"
   ]
  },
  {
   "cell_type": "code",
   "execution_count": 13,
   "metadata": {},
   "outputs": [],
   "source": [
    "for t in range(time):\n",
    "    model += AC_On[t+1] <= AC_Rest[t]\n",
    "    model += STC_On[t+1] <= STC_Rest[t]\n",
    "    model += LTC_On[t+1] <= LTC_Rest[t]"
   ]
  },
  {
   "cell_type": "code",
   "execution_count": 14,
   "metadata": {},
   "outputs": [],
   "source": [
    "for t in range(time):\n",
    "    model += AC_Off[t+1] <= AC_Run[t]\n",
    "    model += STC_Off[t+1] <= STC_Run[t]\n",
    "    model += LTC_Off[t+1] <= LTC_Run[t]"
   ]
  },
  {
   "cell_type": "code",
   "execution_count": 15,
   "metadata": {},
   "outputs": [],
   "source": [
    "for t in range(time):\n",
    "    model += AC_Rest[t+1] == AC_Rest[t] + AC_Off[t] - AC_On[t+1]\n",
    "    model += STC_Rest[t+1] == STC_Rest[t] + STC_Off[t] - STC_On[t+1]\n",
    "    model += LTC_Rest[t+1] == LTC_Rest[t] + LTC_Off[t] - LTC_On[t+1]"
   ]
  },
  {
   "cell_type": "code",
   "execution_count": 16,
   "metadata": {},
   "outputs": [],
   "source": [
    "for t in range(time):\n",
    "    model += AC_energy[t+1] == (AC_Run[t+1] - AC_On[t+1])*AC_max + AC_On[t+1]*AC_half\n",
    "    model += STC_energy[t+1] == STC_Run[t+1]*STC_cap\n",
    "    model += LTC_energy[t+1] == LTC_Run[t+1]*LTC_cap"
   ]
  },
  {
   "cell_type": "code",
   "execution_count": 17,
   "metadata": {},
   "outputs": [],
   "source": [
    "for t in range(time):\n",
    "    model += AC_energy[t+1] + STC_energy[t+1] + LTC_energy[t+1] >= demand[t+1]"
   ]
  },
  {
   "cell_type": "code",
   "execution_count": 18,
   "metadata": {},
   "outputs": [],
   "source": [
    "model += AC_Off[0] == 0\n",
    "model += AC_Run[0] == 0\n",
    "model += AC_Rest[0] == total_AC\n",
    "model += AC_On[0] == 0\n",
    "\n",
    "model += STC_Off[0] == 0\n",
    "model += STC_Run[0] == 0\n",
    "model += STC_Rest[0] == total_STC\n",
    "model += STC_On[0] == 0\n",
    "\n",
    "model += LTC_Off[0] == 0\n",
    "model += LTC_Run[0] == 0\n",
    "model += LTC_Rest[0] == total_LTC\n",
    "model += LTC_On[0] == 0"
   ]
  },
  {
   "cell_type": "code",
   "execution_count": 19,
   "metadata": {},
   "outputs": [
    {
     "data": {
      "text/plain": [
       "1"
      ]
     },
     "execution_count": 19,
     "metadata": {},
     "output_type": "execute_result"
    }
   ],
   "source": [
    "model.solve()"
   ]
  },
  {
   "cell_type": "code",
   "execution_count": 20,
   "metadata": {},
   "outputs": [
    {
     "data": {
      "text/plain": [
       "'Optimal'"
      ]
     },
     "execution_count": 20,
     "metadata": {},
     "output_type": "execute_result"
    }
   ],
   "source": [
    "pulp.LpStatus[model.status]"
   ]
  },
  {
   "cell_type": "code",
   "execution_count": 21,
   "metadata": {},
   "outputs": [
    {
     "name": "stdout",
     "output_type": "stream",
     "text": [
      "None\n",
      "5000.0\n",
      "11000.0\n",
      "12750.0\n",
      "12750.0\n",
      "12750.0\n",
      "12750.0\n",
      "12750.0\n",
      "8500.0\n"
     ]
    }
   ],
   "source": [
    "for t in range(time+1):\n",
    "    print(AC_energy[t].varValue)"
   ]
  },
  {
   "cell_type": "code",
   "execution_count": 22,
   "metadata": {},
   "outputs": [],
   "source": [
    "output = list()\n",
    "for t in range(time+1):\n",
    "    var_output = {'time':t,\n",
    "                  'AC': AC_Run[t].varValue,\n",
    "                  'STC': STC_Run[t].varValue,\n",
    "                  'LTC': LTC_Run[t].varValue}\n",
    "    output.append(var_output)\n",
    "output = pd.DataFrame.from_records(output)"
   ]
  },
  {
   "cell_type": "code",
   "execution_count": 23,
   "metadata": {},
   "outputs": [
    {
     "data": {
      "text/html": [
       "<div>\n",
       "<style scoped>\n",
       "    .dataframe tbody tr th:only-of-type {\n",
       "        vertical-align: middle;\n",
       "    }\n",
       "\n",
       "    .dataframe tbody tr th {\n",
       "        vertical-align: top;\n",
       "    }\n",
       "\n",
       "    .dataframe thead th {\n",
       "        text-align: right;\n",
       "    }\n",
       "</style>\n",
       "<table border=\"1\" class=\"dataframe\">\n",
       "  <thead>\n",
       "    <tr style=\"text-align: right;\">\n",
       "      <th></th>\n",
       "      <th>time</th>\n",
       "      <th>AC</th>\n",
       "      <th>STC</th>\n",
       "      <th>LTC</th>\n",
       "    </tr>\n",
       "  </thead>\n",
       "  <tbody>\n",
       "    <tr>\n",
       "      <th>0</th>\n",
       "      <td>0</td>\n",
       "      <td>0.0</td>\n",
       "      <td>0.0</td>\n",
       "      <td>0.0</td>\n",
       "    </tr>\n",
       "    <tr>\n",
       "      <th>1</th>\n",
       "      <td>1</td>\n",
       "      <td>2.0</td>\n",
       "      <td>2.0</td>\n",
       "      <td>1.0</td>\n",
       "    </tr>\n",
       "    <tr>\n",
       "      <th>2</th>\n",
       "      <td>2</td>\n",
       "      <td>3.0</td>\n",
       "      <td>0.0</td>\n",
       "      <td>0.0</td>\n",
       "    </tr>\n",
       "    <tr>\n",
       "      <th>3</th>\n",
       "      <td>3</td>\n",
       "      <td>3.0</td>\n",
       "      <td>0.0</td>\n",
       "      <td>0.0</td>\n",
       "    </tr>\n",
       "    <tr>\n",
       "      <th>4</th>\n",
       "      <td>4</td>\n",
       "      <td>3.0</td>\n",
       "      <td>0.0</td>\n",
       "      <td>0.0</td>\n",
       "    </tr>\n",
       "    <tr>\n",
       "      <th>5</th>\n",
       "      <td>5</td>\n",
       "      <td>3.0</td>\n",
       "      <td>0.0</td>\n",
       "      <td>0.0</td>\n",
       "    </tr>\n",
       "    <tr>\n",
       "      <th>6</th>\n",
       "      <td>6</td>\n",
       "      <td>3.0</td>\n",
       "      <td>0.0</td>\n",
       "      <td>0.0</td>\n",
       "    </tr>\n",
       "    <tr>\n",
       "      <th>7</th>\n",
       "      <td>7</td>\n",
       "      <td>3.0</td>\n",
       "      <td>0.0</td>\n",
       "      <td>0.0</td>\n",
       "    </tr>\n",
       "    <tr>\n",
       "      <th>8</th>\n",
       "      <td>8</td>\n",
       "      <td>2.0</td>\n",
       "      <td>2.0</td>\n",
       "      <td>0.0</td>\n",
       "    </tr>\n",
       "  </tbody>\n",
       "</table>\n",
       "</div>"
      ],
      "text/plain": [
       "   time   AC  STC  LTC\n",
       "0     0  0.0  0.0  0.0\n",
       "1     1  2.0  2.0  1.0\n",
       "2     2  3.0  0.0  0.0\n",
       "3     3  3.0  0.0  0.0\n",
       "4     4  3.0  0.0  0.0\n",
       "5     5  3.0  0.0  0.0\n",
       "6     6  3.0  0.0  0.0\n",
       "7     7  3.0  0.0  0.0\n",
       "8     8  2.0  2.0  0.0"
      ]
     },
     "execution_count": 23,
     "metadata": {},
     "output_type": "execute_result"
    }
   ],
   "source": [
    "output"
   ]
  },
  {
   "cell_type": "code",
   "execution_count": 24,
   "metadata": {},
   "outputs": [
    {
     "data": {
      "text/plain": [
       "(array([    0.       , 53396.2376794, 53396.2376794, 53396.2376794,\n",
       "        53396.2376794, 53396.2376794, 53396.2376794, 53396.2376794,\n",
       "        53396.2376794]),\n",
       " array([    0.        , 50994.45441145, 50994.45441145, 50994.45441145,\n",
       "        50994.45441145, 50994.45441145, 50994.45441145, 50994.45441145,\n",
       "        50994.45441145]),\n",
       " array([     0.        , 119367.39039713, 119367.39039713, 119367.39039713,\n",
       "        119367.39039713, 119367.39039713, 119367.39039713, 119367.39039713,\n",
       "        119367.39039713]))"
      ]
     },
     "execution_count": 24,
     "metadata": {},
     "output_type": "execute_result"
    }
   ],
   "source": [
    "AC_cost, STC_cost, LTC_cost"
   ]
  },
  {
   "cell_type": "code",
   "execution_count": null,
   "metadata": {},
   "outputs": [],
   "source": []
  }
 ],
 "metadata": {
  "interpreter": {
   "hash": "6035c0200a6a71b9b0984fd1fa045b6d3ba8481bbe0e0d4a2f3dbba709d74662"
  },
  "kernelspec": {
   "display_name": "Python 3.9.7 ('base')",
   "language": "python",
   "name": "python3"
  },
  "language_info": {
   "codemirror_mode": {
    "name": "ipython",
    "version": 3
   },
   "file_extension": ".py",
   "mimetype": "text/x-python",
   "name": "python",
   "nbconvert_exporter": "python",
   "pygments_lexer": "ipython3",
   "version": "3.9.7"
  },
  "orig_nbformat": 4
 },
 "nbformat": 4,
 "nbformat_minor": 2
}
